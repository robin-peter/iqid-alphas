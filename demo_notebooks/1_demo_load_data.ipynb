{
 "cells": [
  {
   "cell_type": "markdown",
   "id": "74c04469-ed5d-4376-9bea-8190cbfda5be",
   "metadata": {},
   "source": [
    "# Notebook 1: Loading an image from Listmode data.\n",
    "\n",
    "In this notebook we will use Python functions to:\n",
    "- load and inspect the data\n",
    "- generate a visualizable image\n",
    "- save your image for use or analysis elsewhere"
   ]
  },
  {
   "cell_type": "markdown",
   "id": "246e2653-ae3c-4e0c-b992-afecd82cdadd",
   "metadata": {},
   "source": [
    "## Import packages"
   ]
  },
  {
   "cell_type": "markdown",
   "id": "ce1ecb8a-475f-4b97-ab70-e1669babdc3e",
   "metadata": {},
   "source": [
    "First, move your working directory upwards one so you can access source code in iqid/. This step is necessary because I haven't set up iqid as an installable package (i.e. via pip or conda), reflecting the fact that it's pretty informal and (permannently) in development."
   ]
  },
  {
   "cell_type": "code",
   "execution_count": 1,
   "id": "abfaafe9-5b2c-4abf-9e1d-389334288564",
   "metadata": {},
   "outputs": [
    {
     "name": "stdout",
     "output_type": "stream",
     "text": [
      "C:\\Users\\Robin\\Documents\\Cal\\iQID\\git_branches\\iqid-alphas\n"
     ]
    }
   ],
   "source": [
    "cd .."
   ]
  },
  {
   "cell_type": "code",
   "execution_count": 2,
   "id": "e5bafca6-b669-483e-8cde-31847868391a",
   "metadata": {},
   "outputs": [
    {
     "name": "stderr",
     "output_type": "stream",
     "text": [
      "C:\\Users\\Robin\\anaconda3\\envs\\beq\\lib\\site-packages\\paramiko\\transport.py:219: CryptographyDeprecationWarning: Blowfish has been deprecated\n",
      "  \"class\": algorithms.Blowfish,\n"
     ]
    }
   ],
   "source": [
    "import os\n",
    "import glob\n",
    "import numpy as np\n",
    "import matplotlib.pyplot as plt\n",
    "from matplotlib.colors import LogNorm\n",
    "from skimage import io\n",
    "\n",
    "%load_ext autoreload\n",
    "%autoreload 2\n",
    "from iqid import helper as iq # helper functions such as plotting parameters and other things\n",
    "from iqid import process_object as po # class to handle listmode data is contained here.\n",
    "\n",
    "pltmap = iq.set_plot_parms() # set default plot settings (feel free to change this)"
   ]
  },
  {
   "cell_type": "markdown",
   "id": "50831792-d042-479f-8fa8-28eb7fddbfde",
   "metadata": {},
   "source": [
    "#  Generate image from listmode data\n",
    "- The %%time command will make the code block tell you how much time it took to run.\n",
    "- Larger data will take more time to import."
   ]
  },
  {
   "cell_type": "code",
   "execution_count": null,
   "id": "48a741d9-88ab-4438-b497-463b53f7add7",
   "metadata": {},
   "outputs": [],
   "source": [
    "%%time\n",
    "\n",
    "# enter the path to your iQID data on your machine\n",
    "datdir = r\"C:\\Users\\Robin\\Documents\\Cal\\iQID\\git_branches\\iqid-alphas\\data_sample\\File_Structure_Sample\"\n",
    "\n",
    "# identify the list-mode data file to be processed, in this case the latest one in the Listmode folder\n",
    "fname = iq.natural_sort(glob.glob(os.path.join(datdir, \"Listmode\", \"*Compressed_Processed_Listmode.dat\")))[-1]\n",
    "\n",
    "# use the iQID code to load the data and create an image\n",
    "# since we're working with the Processed LM file, use \"processed_lm\"\n",
    "# we're using the minimum cluster area filter for now (area threshold = 1)\n",
    "cdat = po.ClusterData(fname, ftype=\"processed_lm\", c_area_thresh=1)\n",
    "cim = cdat.image_from_big_listmode(event_fx=1)"
   ]
  },
  {
   "cell_type": "markdown",
   "id": "6b186c5a-0f30-4d03-980c-100af7578313",
   "metadata": {},
   "source": [
    "# Display the image"
   ]
  },
  {
   "cell_type": "code",
   "execution_count": null,
   "id": "468a0971-4406-4d37-bc73-b8896cbf28bb",
   "metadata": {},
   "outputs": [],
   "source": [
    "f, ax = plt.subplots(1,1, figsize=(8,4))\n",
    "im = ax.imshow(cim, cmap='inferno')\n",
    "ax.axis('off')\n",
    "\n",
    "cbar = iq.nice_colorbar(im)\n",
    "cbar.set_label('Counts/Px')\n",
    "\n",
    "plt.title('Unformatted image')\n",
    "plt.tight_layout()\n",
    "plt.show()\n",
    "plt.close()"
   ]
  },
  {
   "cell_type": "markdown",
   "id": "b5e374f4-cc60-46c9-a40f-ffd414183e0d",
   "metadata": {},
   "source": [
    "This image is *quantitative* but not *calibrated*. That means, the relative uptake in the different parts of the image are accurate with respect to each other. However, without further analysis, we can't know the absolute Activity (Bq or Ci) in the image.\n",
    "\n",
    "For now though, we want to just check the data and see if it looks ok. It's a little hard to see because the uptake in the mets is so much higher than in the rest of the liver tissue (which is a great result). Let's generate a log-plot of the image so we can see the extent of the tissues."
   ]
  },
  {
   "cell_type": "code",
   "execution_count": null,
   "id": "3b5a2e49-1682-47a8-a9a3-790af1b88498",
   "metadata": {},
   "outputs": [],
   "source": [
    "# add threshold below which to black out in log img, then apply to a copy of the img\n",
    "small_value = np.min(cim[cim > 0])\n",
    "im_display = np.copy(cim)\n",
    "im_display[im_display==0] = small_value \n",
    "\n",
    "im = plt.imshow(im_display, cmap='inferno', norm=LogNorm())\n",
    "plt.axis('off')\n",
    "cbar = iq.nice_colorbar(im)\n",
    "cbar.set_label('Counts/Px')\n",
    "plt.title('Log-scale image')\n",
    "plt.show()"
   ]
  },
  {
   "cell_type": "markdown",
   "id": "4efd21c9-6b88-4afd-be8a-723f1224a24e",
   "metadata": {},
   "source": [
    "A little better, but still hard to see. How about this - we'll just make the window extremely small."
   ]
  },
  {
   "cell_type": "code",
   "execution_count": null,
   "id": "fdc843ae-1e76-482f-b1b2-7f5b4a375113",
   "metadata": {},
   "outputs": [],
   "source": [
    "f, ax = plt.subplots(1,1, figsize=(8,4))\n",
    "im = ax.imshow(cim, cmap='inferno', vmax=0.01*np.max(cim))\n",
    "ax.axis('off')\n",
    "\n",
    "cbar = iq.nice_colorbar(im)\n",
    "cbar.set_label('Counts/Px')\n",
    "\n",
    "plt.title('Read the note below!')\n",
    "plt.tight_layout()\n",
    "plt.show()\n",
    "plt.close()"
   ]
  },
  {
   "cell_type": "markdown",
   "id": "c2d191e6-e14c-4c27-b50e-e59260d2c997",
   "metadata": {},
   "source": [
    "<div class=\"alert alert-block alert-warning\">\n",
    "<b>Warning!</b> Note that now that we've adjusted the window down, the colorbar is <b>no longer accurate.</b> We capped the maximum display at about 3 counts/px, which is much, much less than some pixels had (see the above image, which goes up to >300 counts/px.)\n",
    "</div>"
   ]
  },
  {
   "cell_type": "markdown",
   "id": "3523f28f-4c7e-48db-aaac-d50d5feb720d",
   "metadata": {},
   "source": [
    "# Save the image\n",
    "We can save the image in one of two ways.\n",
    "1. Save the .tif image to preserve quantitative properties. Use this if you want to analyze in other software or continue to quantitative dosimetry.\n",
    "2. Save the .png image of the figure we made. Use this if you want to produce a figure for a manuscript, poster, etc."
   ]
  },
  {
   "cell_type": "markdown",
   "id": "7f8b9b1b-396a-44d6-8357-3147970124a1",
   "metadata": {},
   "source": [
    "## 1. Save .tif for analysis"
   ]
  },
  {
   "cell_type": "code",
   "execution_count": null,
   "id": "cefb3d80-c13d-4c46-aeae-28144e86d0cc",
   "metadata": {},
   "outputs": [],
   "source": [
    "# pick where you want to save the image and its name\n",
    "# this defaults to the iQID data folder\n",
    "io.imsave(os.path.join(datdir, \"my_tif_image.tif\"), cim, plugin='tifffile')"
   ]
  },
  {
   "cell_type": "markdown",
   "id": "a079edf8-509d-46d8-a099-fa4ce556a720",
   "metadata": {},
   "source": [
    "## 2. Save .png for figure\n",
    "Showing the log-scale image as an example."
   ]
  },
  {
   "cell_type": "code",
   "execution_count": null,
   "id": "ec5a67e7-fcbf-44bd-86a4-e1a5919f5f32",
   "metadata": {},
   "outputs": [],
   "source": [
    "# add threshold below which to black out in log img, then apply to a copy of the img\n",
    "small_value = np.min(cim[cim > 0])\n",
    "im_display = np.copy(cim)\n",
    "im_display[im_display==0] = small_value \n",
    "\n",
    "im = plt.imshow(im_display, cmap='inferno', norm=LogNorm())\n",
    "plt.axis('off')\n",
    "cbar = iq.nice_colorbar(im)\n",
    "cbar.set_label('Counts/Px')\n",
    "plt.title('Log-scale image')\n",
    "plt.tight_layout()\n",
    "\n",
    "# here is the line to save the figure\n",
    "# you can adjust the location and settings as desired\n",
    "plt.savefig(os.path.join(datdir, \"my_tif_image.png\"), bbox_inches='tight', dpi=300)\n",
    "\n",
    "# closes the figure without displaying it\n",
    "plt.close()"
   ]
  },
  {
   "cell_type": "markdown",
   "id": "c8ff2b94-98c7-453e-ad3b-7f7581f3f4e2",
   "metadata": {
    "tags": []
   },
   "source": [
    "# Things to check\n",
    "\n",
    "Curious if your acquisition went well? Suspicious that something is wrong? Here are two things I like to check.\n",
    "\n",
    "- Time histogram\n",
    "- Missed images"
   ]
  },
  {
   "cell_type": "markdown",
   "id": "48f565fb-4c3b-405b-b4d1-5d7af6fa3d82",
   "metadata": {},
   "source": [
    "## 1. Time histogram\n",
    "We expect to see a nice exponential decay corresponding to the half-life of the isotope that you used. Let's look at a good example first (from the most recent data).\n",
    "\n",
    "*note that if you run the next examples and come back to this one, you'll have to re-import the data.*"
   ]
  },
  {
   "cell_type": "code",
   "execution_count": null,
   "id": "2de2852f-2922-425d-af1f-ee807cc14311",
   "metadata": {},
   "outputs": [],
   "source": [
    "# regardless of what time unit you decide to use, make sure it's consistent for all arrays\n",
    "thalf = 9.9 * 24 # time \n",
    "tdata = cdat.t_s / 60 / 60 # timestamps of each recorded event in hours\n",
    "t_binsize = 1 # 1-hour binsize -- adjust if needed\n",
    "nbins = int(np.round((tdata[-1] - tdata[0])/t_binsize))\n",
    "\n",
    "# generate histogram\n",
    "n, bins, _ = plt.hist(tdata, bins=nbins, edgecolor='white')\n",
    "binedges = 0.5 * (bins[1:] + bins[:-1])\n",
    "\n",
    "# fit the histogram with an exponential decay\n",
    "popt, pcov, param_std, res, chisq, chisqn = cdat.fitHist(\n",
    "    binedges, n, func=po.exponential, p0=[1, thalf], tol=0.05)\n",
    "\n",
    "# generate dummy array to plot the exponential\n",
    "tdummy = np.linspace(tdata[0], tdata[-1], 5000)\n",
    "\n",
    "# plot the components on top of the histogram\n",
    "plt.errorbar(binedges, n, np.sqrt(n), linestyle='none', capsize=3) # errorbars\n",
    "plt.plot(tdummy, po.exponential(tdummy, *popt), color='k')\n",
    "plt.xlabel('Time (h)')\n",
    "plt.ylabel('Counts / bin')\n",
    "plt.title('Good time histogram with exp fit')\n",
    "plt.show()"
   ]
  },
  {
   "cell_type": "markdown",
   "id": "17313730-a4ca-496f-88fc-469ec3db45a8",
   "metadata": {},
   "source": [
    "This histogram appears to be reasonably fit with the half-life of Ac-225 (to within 5% tolerance). There are no obvious spikes or missing data during the acquisition. Note that because 10 d is a long half-life, it will look fairly linear over a 24-h acquisition. Looks good to me!\n",
    "\n",
    "What might a bad example look like and what would it tell you about the data?"
   ]
  },
  {
   "cell_type": "code",
   "execution_count": null,
   "id": "e2757414-3431-42ff-98be-05e75490a676",
   "metadata": {},
   "outputs": [],
   "source": [
    "datdir = r\"C:\\Users\\Robin\\Documents\\Cal\\iQID\\git_branches\\iqid-alphas\\data_sample\\File_Structure_Sample_Bad\"\n",
    "fname = iq.natural_sort(glob.glob(os.path.join(datdir, \"Listmode\", \"*Compressed_Processed_Listmode.dat\")))[-1]\n",
    "cdat = po.ClusterData(fname, ftype=\"processed_lm\", c_area_thresh=1)\n",
    "cim = cdat.image_from_big_listmode(event_fx=1)"
   ]
  },
  {
   "cell_type": "code",
   "execution_count": null,
   "id": "ea7f3ca8-e377-444d-ba02-b616f8825be5",
   "metadata": {},
   "outputs": [],
   "source": [
    "tdata = cdat.t_s / 60 / 60 # timestamps of each recorded event in hours\n",
    "nbins = int(np.round((tdata[-1] - tdata[0])/t_binsize))\n",
    "\n",
    "# generate histogram\n",
    "n, bins, _ = plt.hist(tdata, bins=nbins, edgecolor='white')\n",
    "binedges = 0.5 * (bins[1:] + bins[:-1])\n",
    "\n",
    "# fit the histogram with an exponential decay\n",
    "popt, pcov, param_std, res, chisq, chisqn = cdat.fitHist(\n",
    "    binedges, n, func=po.exponential, p0=[1, thalf], tol=0.05)\n",
    "\n",
    "# generate dummy array to plot the exponential\n",
    "tdummy = np.linspace(tdata[0], tdata[-1], 5000)\n",
    "\n",
    "# plot the components on top of the histogram\n",
    "plt.errorbar(binedges, n, np.sqrt(n), linestyle='none', capsize=3) # errorbars\n",
    "plt.plot(tdummy, po.exponential(tdummy, *popt), color='k')\n",
    "plt.xlabel('Time (h)')\n",
    "plt.ylabel('Counts / bin')\n",
    "plt.title('Bad time histogram with exp fit')\n",
    "plt.show()"
   ]
  },
  {
   "cell_type": "markdown",
   "id": "fb0ec710-05dc-4a76-96c9-00ec9294e513",
   "metadata": {},
   "source": [
    "We can see that this histogram does not follow a nice exponential decay like the last one, instead showing a dip in signal from 3h-14h. One guess for why this might have happened is if the laptop had some kind of scheduled update or power setting that made it divert computational resources during that time. Data like this may still be quantitatively recoverable with some further analysis. Since there's still a lot of counts, the image itself should be fine. Let's see below:"
   ]
  },
  {
   "cell_type": "code",
   "execution_count": null,
   "id": "27932906-189f-4814-af26-0d9aaf3e71d7",
   "metadata": {},
   "outputs": [],
   "source": [
    "f, ax = plt.subplots(1,1, figsize=(8,4))\n",
    "im = ax.imshow(cim, cmap='inferno', vmax=0.5*np.max(cim))\n",
    "ax.axis('off')\n",
    "\n",
    "cbar = iq.nice_colorbar(im)\n",
    "cbar.set_label('Counts/Px')\n",
    "\n",
    "plt.title('The image is fine,\\nbut care needed for future analysis.')\n",
    "plt.tight_layout()\n",
    "plt.show()\n",
    "plt.close()"
   ]
  },
  {
   "cell_type": "markdown",
   "id": "1e6ce471-9f5f-4381-8b20-5bf74ea817b2",
   "metadata": {},
   "source": [
    "## 2. Missed images\n",
    "\n",
    "In the iQID header file, you can check the last line to see if any images (frames) were missed during the acquisition. Significant (>100) missed frames can indicate something went wrong. Sometimes, if the acquisition doesn't stop correctly, the missed image warning at the bottom of the header file will be missing. We can check manually using the Offsets Listmode file."
   ]
  },
  {
   "cell_type": "code",
   "execution_count": null,
   "id": "37063042-2781-4282-996c-84efe65f1bcf",
   "metadata": {},
   "outputs": [],
   "source": [
    "# first: good example with no missed images\n",
    "datdir = r\"C:\\Users\\Robin\\Documents\\Cal\\iQID\\git_branches\\iqid-alphas\\data_sample\\File_Structure_Sample\"\n",
    "\n",
    "# note, using the Offsets file instead\n",
    "oname = glob.glob(os.path.join(datdir,'Listmode', '*Offsets_Full_Raw_Listmode.dat'))[-1]\n",
    "odat = po.ClusterData(oname, ftype=\"offset_lm\")\n",
    "data = odat.load_cluster_data(dtype=np.int32)\n",
    "f_of, t, m, n, px, kelv = odat.init_metadata(data)\n",
    "\n",
    "# plot missed images over time\n",
    "plt.plot(t * 1e-3 / 3600, m)\n",
    "plt.xlabel('Time (h)')\n",
    "plt.ylabel('Missed images')\n",
    "plt.title('First data set has no missed images')\n",
    "plt.show()"
   ]
  },
  {
   "cell_type": "code",
   "execution_count": null,
   "id": "6421c7e0-20a3-4870-990b-309347250176",
   "metadata": {},
   "outputs": [],
   "source": [
    "# next: example with missed images\n",
    "datdir = r\"C:\\Users\\Robin\\Documents\\Cal\\iQID\\git_branches\\iqid-alphas\\data_sample\\File_Structure_Sample_Missed\"\n",
    "\n",
    "# note, using the Offsets file instead\n",
    "oname = glob.glob(os.path.join(datdir,'Listmode', '*Offsets_Full_Raw_Listmode.dat'))[-1]\n",
    "odat = po.ClusterData(oname, ftype=\"offset_lm\")\n",
    "data = odat.load_cluster_data(dtype=np.int32)\n",
    "f_of, t, m, n, px, kelv = odat.init_metadata(data)\n",
    "\n",
    "# plot missed images over time\n",
    "plt.plot(t * 1e-3 / 3600, m)\n",
    "plt.xlabel('Time (h)')\n",
    "plt.ylabel('Missed images')\n",
    "plt.title('Constantly missed images = something is wrong')\n",
    "plt.show()"
   ]
  },
  {
   "cell_type": "markdown",
   "id": "dd4c1fa2-bd5b-44b1-ac92-80dfd047333d",
   "metadata": {},
   "source": [
    "In this data, we were having issues with the old iQID laptop as well as connection via USB. There will be some problems doing quantitative dosimetry with this.\n",
    "\n",
    "In some datasets, there might just be one spike of missed images. This is usually recoverable but it's a case-by-case basis."
   ]
  },
  {
   "cell_type": "markdown",
   "id": "efc18e6b-9e05-4d7d-974f-fc9019cae3f1",
   "metadata": {},
   "source": [
    "# Summary\n",
    "This notebook showed the basics for loading and simple image construction of iQID listmode data. We also learned how to troubleshoot to identify a couple of the common issues that might result from device problems during acquisition. We haven't discussed how to resolve or correct for these issues yet, but knowing is half the battle!\n",
    "\n",
    "In the next demo, we'll show how to perform a basic quantitative evaluation of a well-behaved data set."
   ]
  },
  {
   "cell_type": "code",
   "execution_count": null,
   "id": "801d0e1a-0dd2-4518-ba77-564a40cfb258",
   "metadata": {},
   "outputs": [],
   "source": []
  }
 ],
 "metadata": {
  "kernelspec": {
   "display_name": "Python 3 (ipykernel)",
   "language": "python",
   "name": "python3"
  },
  "language_info": {
   "codemirror_mode": {
    "name": "ipython",
    "version": 3
   },
   "file_extension": ".py",
   "mimetype": "text/x-python",
   "name": "python",
   "nbconvert_exporter": "python",
   "pygments_lexer": "ipython3",
   "version": "3.8.16"
  }
 },
 "nbformat": 4,
 "nbformat_minor": 5
}
