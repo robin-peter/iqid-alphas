{
 "cells": [
  {
   "cell_type": "markdown",
   "metadata": {},
   "source": [
    "# Notebook 3: (Demo) Automated batch processing of dose-rate calculations\n",
    "\n",
    "The batch processing framework shown here may be applied to other procedures, including:\n",
    "- Pixelization and activity correction\n",
    "- Alignment\n",
    "- H&E co-registration\n",
    "\n",
    "However, it is best to try the procedure with a few sample sets first to optimize the various parameters.\n",
    "\n",
    "Inputs:\n",
    "- Simulated MC dose kernel\n",
    "- Directory of data containing many aligned iQID activity image stacks\n",
    "- iQID FoV measurement data\n",
    "- Optional: parameter file for small-value errors introduced by alignment\n",
    "(comment out pertinent sections if not desired)\n",
    "\n",
    "Output:\n",
    "- Central-slice dose-rate images in each subdirectory"
   ]
  },
  {
   "cell_type": "code",
   "execution_count": 1,
   "metadata": {},
   "outputs": [],
   "source": [
    "# Move the working directory up one level to the one shown to find the source packages.\n",
    "# Feel free to modify your own system path to accomodate this package if desired.\n",
    "# Please note this change for all relative paths contained in the notebook."
   ]
  },
  {
   "cell_type": "code",
   "execution_count": 2,
   "metadata": {},
   "outputs": [
    {
     "name": "stdout",
     "output_type": "stream",
     "text": [
      "C:\\Users\\Robin\\Documents\\Cal\\iQID\\dev_iqid_alphas\n"
     ]
    }
   ],
   "source": [
    "cd .."
   ]
  },
  {
   "cell_type": "code",
   "execution_count": 3,
   "metadata": {},
   "outputs": [],
   "source": [
    "import os\n",
    "import numpy as np\n",
    "import matplotlib.pyplot as plt\n",
    "plt.rcParams['font.size'] = '18'\n",
    "\n",
    "from matplotlib.colors import LogNorm\n",
    "from scipy.ndimage import convolve\n",
    "from skimage import io\n",
    "from importlib import reload\n",
    "\n",
    "from iqid import process, dpk"
   ]
  },
  {
   "cell_type": "code",
   "execution_count": 4,
   "metadata": {
    "tags": []
   },
   "outputs": [
    {
     "name": "stdout",
     "output_type": "stream",
     "text": [
      "data\\H695\\12Aug\n",
      "data\\H695\\13Aug\n",
      "data\\H700\\25March\n",
      "data\\H700\\26March\n",
      "data\\H707\\17June\n",
      "data\\H707\\18June\n",
      "data\\H714\\16Sep\n",
      "data\\H714\\17Sep\n",
      "data\\H719\\7Oct\n",
      "data\\H719\\8Oct\n",
      "data\\H741\\2Dec\n",
      "data\\H741\\3Dec\n",
      "data\\H751\\3Mar\n",
      "data\\H764\\PNNL\n",
      "data\\H765\\FHCRC\n",
      "data\\H765\\PNNL\n"
     ]
    }
   ],
   "source": [
    "# get list of substudies in which to perform procedure\n",
    "# change this to your data directory\n",
    "rootdir = 'data'\n",
    "ssl = process.list_substudies(rootdir)\n",
    "\n",
    "for ss in ssl:\n",
    "    print(ss)"
   ]
  },
  {
   "cell_type": "code",
   "execution_count": 5,
   "metadata": {},
   "outputs": [],
   "source": [
    "param_dir = 'parameters'\n",
    "kern_id = 'at211_10E6_151_1um_water.txt'\n",
    "scale_id = 'scale_data.csv'\n",
    "act_corr = 'activity_correction.csv'"
   ]
  },
  {
   "cell_type": "code",
   "execution_count": 6,
   "metadata": {
    "tags": []
   },
   "outputs": [
    {
     "name": "stdout",
     "output_type": "stream",
     "text": [
      "Loading Geant4 kernel...\n"
     ]
    },
    {
     "ename": "KeyboardInterrupt",
     "evalue": "",
     "output_type": "error",
     "traceback": [
      "\u001b[1;31m---------------------------------------------------------------------------\u001b[0m",
      "\u001b[1;31mKeyboardInterrupt\u001b[0m                         Traceback (most recent call last)",
      "\u001b[1;32m<ipython-input-6-f81acdeed9a3>\u001b[0m in \u001b[0;36m<module>\u001b[1;34m\u001b[0m\n\u001b[0;32m      3\u001b[0m \u001b[1;33m\u001b[0m\u001b[0m\n\u001b[0;32m      4\u001b[0m \u001b[1;31m# Load in the Geant4 kernel and average radially.\u001b[0m\u001b[1;33m\u001b[0m\u001b[1;33m\u001b[0m\u001b[1;33m\u001b[0m\u001b[0m\n\u001b[1;32m----> 5\u001b[1;33m dose_kernel = dpk.load_kernel(os.path.join(param_dir, kern_id),\n\u001b[0m\u001b[0;32m      6\u001b[0m                                 dim=151, num_alpha_decays=10e6)\n\u001b[0;32m      7\u001b[0m \u001b[0mradial_kernel\u001b[0m \u001b[1;33m=\u001b[0m \u001b[0mdpk\u001b[0m\u001b[1;33m.\u001b[0m\u001b[0mradial_avg_kernel\u001b[0m\u001b[1;33m(\u001b[0m\u001b[0mdose_kernel\u001b[0m\u001b[1;33m,\u001b[0m \u001b[0mmode\u001b[0m\u001b[1;33m=\u001b[0m\u001b[1;34m'whole'\u001b[0m\u001b[1;33m)\u001b[0m\u001b[1;33m\u001b[0m\u001b[1;33m\u001b[0m\u001b[0m\n",
      "\u001b[1;32m~\\Documents\\Cal\\iQID\\dev_iqid_alphas\\iqid\\dpk.py\u001b[0m in \u001b[0;36mload_kernel\u001b[1;34m(filename, dim, num_alpha_decays)\u001b[0m\n\u001b[0;32m     27\u001b[0m     \"\"\"\n\u001b[0;32m     28\u001b[0m \u001b[1;33m\u001b[0m\u001b[0m\n\u001b[1;32m---> 29\u001b[1;33m     \u001b[0mkernelData\u001b[0m \u001b[1;33m=\u001b[0m \u001b[0mnp\u001b[0m\u001b[1;33m.\u001b[0m\u001b[0mgenfromtxt\u001b[0m\u001b[1;33m(\u001b[0m\u001b[0mfilename\u001b[0m\u001b[1;33m,\u001b[0m \u001b[0mdelimiter\u001b[0m\u001b[1;33m=\u001b[0m\u001b[1;34m' '\u001b[0m\u001b[1;33m,\u001b[0m \u001b[0mskip_header\u001b[0m\u001b[1;33m=\u001b[0m\u001b[1;36m5\u001b[0m\u001b[1;33m)\u001b[0m\u001b[1;33m\u001b[0m\u001b[1;33m\u001b[0m\u001b[0m\n\u001b[0m\u001b[0;32m     30\u001b[0m     \u001b[0mE\u001b[0m \u001b[1;33m=\u001b[0m \u001b[0mkernelData\u001b[0m\u001b[1;33m[\u001b[0m\u001b[1;33m:\u001b[0m\u001b[1;33m,\u001b[0m\u001b[1;33m-\u001b[0m\u001b[1;36m1\u001b[0m\u001b[1;33m]\u001b[0m\u001b[1;33m\u001b[0m\u001b[1;33m\u001b[0m\u001b[0m\n\u001b[0;32m     31\u001b[0m     \u001b[0mdims\u001b[0m \u001b[1;33m=\u001b[0m \u001b[1;33m(\u001b[0m\u001b[0mdim\u001b[0m\u001b[1;33m*\u001b[0m\u001b[0mnp\u001b[0m\u001b[1;33m.\u001b[0m\u001b[0mones\u001b[0m\u001b[1;33m(\u001b[0m\u001b[1;36m3\u001b[0m\u001b[1;33m)\u001b[0m\u001b[1;33m)\u001b[0m\u001b[1;33m.\u001b[0m\u001b[0mastype\u001b[0m\u001b[1;33m(\u001b[0m\u001b[0mint\u001b[0m\u001b[1;33m)\u001b[0m\u001b[1;33m\u001b[0m\u001b[1;33m\u001b[0m\u001b[0m\n",
      "\u001b[1;32m~\\anaconda3\\envs\\jlab\\lib\\site-packages\\numpy\\lib\\npyio.py\u001b[0m in \u001b[0;36mgenfromtxt\u001b[1;34m(fname, dtype, comments, delimiter, skip_header, skip_footer, converters, missing_values, filling_values, usecols, names, excludelist, deletechars, replace_space, autostrip, case_sensitive, defaultfmt, unpack, usemask, loose, invalid_raise, max_rows, encoding, like)\u001b[0m\n\u001b[0;32m   2250\u001b[0m                         \u001b[0mdtype\u001b[0m \u001b[1;33m=\u001b[0m \u001b[0mnp\u001b[0m\u001b[1;33m.\u001b[0m\u001b[0mdtype\u001b[0m\u001b[1;33m(\u001b[0m\u001b[0mttype\u001b[0m\u001b[1;33m)\u001b[0m\u001b[1;33m\u001b[0m\u001b[1;33m\u001b[0m\u001b[0m\n\u001b[0;32m   2251\u001b[0m             \u001b[1;31m#\u001b[0m\u001b[1;33m\u001b[0m\u001b[1;33m\u001b[0m\u001b[1;33m\u001b[0m\u001b[0m\n\u001b[1;32m-> 2252\u001b[1;33m             \u001b[0moutput\u001b[0m \u001b[1;33m=\u001b[0m \u001b[0mnp\u001b[0m\u001b[1;33m.\u001b[0m\u001b[0marray\u001b[0m\u001b[1;33m(\u001b[0m\u001b[0mdata\u001b[0m\u001b[1;33m,\u001b[0m \u001b[0mdtype\u001b[0m\u001b[1;33m)\u001b[0m\u001b[1;33m\u001b[0m\u001b[1;33m\u001b[0m\u001b[0m\n\u001b[0m\u001b[0;32m   2253\u001b[0m             \u001b[1;32mif\u001b[0m \u001b[0musemask\u001b[0m\u001b[1;33m:\u001b[0m\u001b[1;33m\u001b[0m\u001b[1;33m\u001b[0m\u001b[0m\n\u001b[0;32m   2254\u001b[0m                 \u001b[1;32mif\u001b[0m \u001b[0mdtype\u001b[0m\u001b[1;33m.\u001b[0m\u001b[0mnames\u001b[0m \u001b[1;32mis\u001b[0m \u001b[1;32mnot\u001b[0m \u001b[1;32mNone\u001b[0m\u001b[1;33m:\u001b[0m\u001b[1;33m\u001b[0m\u001b[1;33m\u001b[0m\u001b[0m\n",
      "\u001b[1;31mKeyboardInterrupt\u001b[0m: "
     ]
    }
   ],
   "source": [
    "# Part 2: Load the dose kernel (MeV) and bin it to the field-of-view scale.\n",
    "print('Loading Geant4 kernel...')\n",
    "\n",
    "# Load in the Geant4 kernel and average radially.\n",
    "dose_kernel = dpk.load_kernel(os.path.join(param_dir, kern_id),\n",
    "                                dim=151, num_alpha_decays=10e6)\n",
    "radial_kernel = dpk.radial_avg_kernel(dose_kernel, mode='whole')\n",
    "\n",
    "# Import the field-of-view data and select our sample study from the list.\n",
    "# Subpx is the factor used to subpixelate (interpolate) the listmode data.\n",
    "px, mm, subpx = np.genfromtxt(os.path.join(param_dir, scale_id),\n",
    "                            delimiter=',', skip_header=1,\n",
    "                            usecols=(1, 2, 3), unpack=True)\n",
    "study_slice_z = 12\n",
    "\n",
    "a_diff = np.genfromtxt(os.path.join(param_dir, act_corr),\n",
    "                            delimiter=',', skip_header=1,\n",
    "                            usecols=(2))\n",
    "\n",
    "a_corr = a_diff/100\n",
    "\n",
    "# Pad the kernel up to integer multiples of the voxel size.\n",
    "um_per_px = mm/px * 1e3 / subpx\n",
    "\n",
    "eff_2pi = 4.25/4.32\n",
    "eff_1pi = 0.5*eff_2pi\n",
    "efficiency_factor = 1/eff_1pi\n",
    "time_snapshot = 1  # second"
   ]
  },
  {
   "cell_type": "code",
   "execution_count": null,
   "metadata": {},
   "outputs": [],
   "source": [
    "for i in range(len(ssl)):\n",
    "    imdir = ssl[i]\n",
    "\n",
    "    astack_mBq = io.imread(os.path.join(imdir, 'aligned', 'imstack.tif'))\n",
    "    \n",
    "    # Correct for small errors introduced by transformation\n",
    "    astack_corr = astack_mBq / (1+a_corr[i])\n",
    "    \n",
    "    # Bin the kernel down to match the iQID image resolution.\n",
    "    study_um_px = np.round(um_per_px[i])\n",
    "    padded_kernel = dpk.pad_kernel_to_vsize(radial_kernel,\n",
    "                                                vox_xy=study_um_px,\n",
    "                                                slice_z=study_slice_z)\n",
    "\n",
    "    d, m, n = padded_kernel.shape\n",
    "    binned_kernel = dpk.bin_ndarray(padded_kernel,\n",
    "                                        (int(d/study_slice_z),\n",
    "                                        int(m/study_um_px),\n",
    "                                        int(n/study_um_px)))\n",
    "    \n",
    "    events = astack_corr * efficiency_factor * time_snapshot * 1e-3 # convert mBq > Bq\n",
    "\n",
    "    # Unit conversions and convolution.\n",
    "    vox_vol_m = (study_um_px * 1e-6)**2 * (study_slice_z * 1e-6)\n",
    "    mgy_kernel = dpk.mev_to_mgy(binned_kernel, vox_vol_m)\n",
    "    mgy_per_hr = convolve(events, mgy_kernel) * 60 * 60\n",
    "\n",
    "    # Select the dose rate image of the central slice.\n",
    "    central_slice = mgy_per_hr[len(mgy_per_hr)//2,:,:]\n",
    "    \n",
    "    # Visualize\n",
    "    fig, ax = plt.subplots(figsize=(6,6))\n",
    "    im = ax.imshow(central_slice, cmap='inferno')\n",
    "    ax.axis('off')\n",
    "    cbar = plt.colorbar(im,fraction=0.046, pad=0.04)\n",
    "    cbar.set_label('Absorbed dose rate (mGy/h)')\n",
    "    plt.tight_layout()   \n",
    "    plt.show()\n",
    "    \n",
    "    print('complete:')\n",
    "    print(ssl[i])\n",
    "    print('')"
   ]
  }
 ],
 "metadata": {
  "kernelspec": {
   "display_name": "Python 3",
   "language": "python",
   "name": "python3"
  },
  "language_info": {
   "codemirror_mode": {
    "name": "ipython",
    "version": 3
   },
   "file_extension": ".py",
   "mimetype": "text/x-python",
   "name": "python",
   "nbconvert_exporter": "python",
   "pygments_lexer": "ipython3",
   "version": "3.8.10"
  }
 },
 "nbformat": 4,
 "nbformat_minor": 4
}
