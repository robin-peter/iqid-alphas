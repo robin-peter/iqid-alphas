{
 "cells": [
  {
   "cell_type": "markdown",
   "metadata": {},
   "source": [
    "# Notebook 5: (Demo) Cloning method for DPK convolution\n",
    "\n",
    "Method published at (DOI) to reduce the number of slices needed for autoradiography-based DPK dosimetry.\n",
    "\n",
    "Inputs: \n",
    "- iQID activity image (or images)\n",
    "- Simulated MC dose kernel\n",
    "- FoV measurement (scale information) of iQID pixel sizes\n",
    "\n",
    "Output:\n",
    "- Central-slice dose-rate image"
   ]
  },
  {
   "cell_type": "code",
   "execution_count": 1,
   "metadata": {},
   "outputs": [],
   "source": [
    "# Move the working directory up one level to the one shown to find the source packages.\n",
    "# Feel free to modify your own system path to accomodate this package if desired.\n",
    "# Please note this change for all relative paths contained in the notebook."
   ]
  },
  {
   "cell_type": "code",
   "execution_count": 2,
   "metadata": {},
   "outputs": [
    {
     "name": "stdout",
     "output_type": "stream",
     "text": [
      "C:\\Users\\Robin\\Documents\\Cal\\iQID\\git_iqid_alphas\n"
     ]
    }
   ],
   "source": [
    "cd .."
   ]
  },
  {
   "cell_type": "code",
   "execution_count": 3,
   "metadata": {},
   "outputs": [
    {
     "data": {
      "text/plain": [
       "<module 'iqid.dpk' from 'C:\\\\Users\\\\Robin\\\\Documents\\\\Cal\\\\iQID\\\\git_iqid_alphas\\\\iqid\\\\dpk.py'>"
      ]
     },
     "execution_count": 3,
     "metadata": {},
     "output_type": "execute_result"
    }
   ],
   "source": [
    "import os\n",
    "import time\n",
    "import numpy as np\n",
    "import matplotlib.pyplot as plt\n",
    "plt.rcParams['font.size'] = '18'\n",
    "\n",
    "from matplotlib.colors import LogNorm\n",
    "from scipy.ndimage import convolve\n",
    "from skimage import io, util\n",
    "from importlib import reload\n",
    "\n",
    "from iqid import dpk\n",
    "reload(dpk)"
   ]
  },
  {
   "cell_type": "markdown",
   "metadata": {},
   "source": [
    "## Test module with a simple 1-D array to visualize the method\n",
    "Purely for demonstration purposes: say you start with a 1-dimensional \"stack\" of ten numbers, 0 through 9. Then, the cloning method can be visualized by using each number to represent which slices are used in the operation."
   ]
  },
  {
   "cell_type": "code",
   "execution_count": 4,
   "metadata": {},
   "outputs": [
    {
     "name": "stdout",
     "output_type": "stream",
     "text": [
      "Nine \"slices\" numbered 0-9:\n",
      "[0 1 2 3 4 5 6 7 8]\n",
      "\n",
      "\n",
      "Preserving slices 4 to 4 and duplicating outwards\n",
      "[4 4 4 4 4 4 4 4 4]\n",
      "\n",
      "Preserving slices 3 to 5 and duplicating outwards\n",
      "[3 3 3 3 4 5 5 5 5]\n",
      "\n",
      "Preserving slices 2 to 6 and duplicating outwards\n",
      "[2 2 2 3 4 5 6 6 6]\n",
      "\n",
      "Preserving slices 1 to 7 and duplicating outwards\n",
      "[1 1 2 3 4 5 6 7 7]\n",
      "\n",
      "Preserving slices 0 to 8 and duplicating outwards\n",
      "[0 1 2 3 4 5 6 7 8]\n",
      "\n"
     ]
    }
   ],
   "source": [
    "# little test module to demonstrate the method in 1D\n",
    "a = np.arange(9)\n",
    "print('Nine \"slices\" numbered 0-9:')\n",
    "print(a)\n",
    "print('')\n",
    "print('')\n",
    "\n",
    "for j in range(len(a)//2 + len(a)%2):\n",
    "    num_slices = 2*j+len(a)%2\n",
    "    idx = len(a)//2\n",
    "    toleft = num_slices//2\n",
    "    toright = num_slices//2\n",
    "    \n",
    "    print('Preserving slices {} to {} and duplicating outwards'.format(idx-toleft, idx+toright))\n",
    "    \n",
    "    duped_stack = np.copy(a)\n",
    "    duped_stack[:(idx-toleft)] = a[idx-toleft]\n",
    "    duped_stack[(idx+toright):] = a[idx+toright]\n",
    "    print(duped_stack)\n",
    "    print('')"
   ]
  },
  {
   "cell_type": "markdown",
   "metadata": {},
   "source": [
    "In the two extremes, only the center slice is used (e.g., a one-slice measurement), or all slices are used (same as the conventional full-sequence method)."
   ]
  },
  {
   "cell_type": "markdown",
   "metadata": {},
   "source": [
    "## iQID cloning method using one slice only"
   ]
  },
  {
   "cell_type": "code",
   "execution_count": 5,
   "metadata": {},
   "outputs": [],
   "source": [
    "imdir = os.path.join('data', 'H700', '25March')"
   ]
  },
  {
   "cell_type": "code",
   "execution_count": 6,
   "metadata": {},
   "outputs": [
    {
     "name": "stdout",
     "output_type": "stream",
     "text": [
      "Loading Geant4 kernel...\n"
     ]
    }
   ],
   "source": [
    "param_dir = os.path.join('parameters')\n",
    "kern_id = 'at211_10E6_151_1um_water.txt'\n",
    "scale_id = 'scale_data.csv'\n",
    "act_corr = 'activity_correction.csv'\n",
    "\n",
    "# Load the dose kernel (MeV) and bin it to the field-of-view scale.\n",
    "print('Loading Geant4 kernel...')\n",
    "\n",
    "# Load in the Geant4 kernel and average radially.\n",
    "dose_kernel = dpk.load_kernel(os.path.join(param_dir, kern_id),\n",
    "                                dim=151, num_alpha_decays=10e6)\n",
    "radial_kernel = dpk.radial_avg_kernel(dose_kernel, mode='whole')\n",
    "\n",
    "# Import the field-of-view data and select our sample study from the list.\n",
    "# Subpx is the factor used to subpixelate (interpolate) the listmode data.\n",
    "px, mm, subpx = np.genfromtxt(os.path.join(param_dir, scale_id),\n",
    "                            delimiter=',', skip_header=1,\n",
    "                            usecols=(1,2,3), unpack=True)\n",
    "\n",
    "a_diff = np.genfromtxt(os.path.join(param_dir, act_corr),\n",
    "                            delimiter=',', skip_header=1,\n",
    "                            usecols=(2))\n",
    "\n",
    "a_corr = a_diff/100\n",
    "\n",
    "# Pad the kernel up to integer multiples of the voxel size.\n",
    "um_per_px = mm/px * 1e3 / subpx\n",
    "\n",
    "eff_2pi = 4.25/4.32\n",
    "eff_1pi = 0.5*eff_2pi\n",
    "efficiency_factor = 1/eff_1pi\n",
    "time_snapshot = 1  # second"
   ]
  },
  {
   "cell_type": "code",
   "execution_count": 7,
   "metadata": {},
   "outputs": [],
   "source": [
    "num_slices = 5 # number of slices to pad on either side\n",
    "study_idx = 2"
   ]
  },
  {
   "cell_type": "code",
   "execution_count": 8,
   "metadata": {},
   "outputs": [
    {
     "name": "stdout",
     "output_type": "stream",
     "text": [
      "    doing full convolution...\n"
     ]
    },
    {
     "ename": "NameError",
     "evalue": "name 'events' is not defined",
     "output_type": "error",
     "traceback": [
      "\u001b[1;31m---------------------------------------------------------------------------\u001b[0m",
      "\u001b[1;31mNameError\u001b[0m                                 Traceback (most recent call last)",
      "\u001b[1;32m<ipython-input-8-39a6bb09b4b8>\u001b[0m in \u001b[0;36m<module>\u001b[1;34m\u001b[0m\n\u001b[0;32m     21\u001b[0m \u001b[0mprint\u001b[0m\u001b[1;33m(\u001b[0m\u001b[1;34m'    doing full convolution...'\u001b[0m\u001b[1;33m)\u001b[0m\u001b[1;33m\u001b[0m\u001b[1;33m\u001b[0m\u001b[0m\n\u001b[0;32m     22\u001b[0m \u001b[1;31m# Unit conversions and convolution.\u001b[0m\u001b[1;33m\u001b[0m\u001b[1;33m\u001b[0m\u001b[1;33m\u001b[0m\u001b[0m\n\u001b[1;32m---> 23\u001b[1;33m \u001b[0mmgy_per_hr\u001b[0m \u001b[1;33m=\u001b[0m \u001b[0mconvolve\u001b[0m\u001b[1;33m(\u001b[0m\u001b[0mevents\u001b[0m\u001b[1;33m,\u001b[0m \u001b[0mmgy_kernel\u001b[0m\u001b[1;33m)\u001b[0m \u001b[1;33m*\u001b[0m \u001b[1;36m60\u001b[0m \u001b[1;33m*\u001b[0m \u001b[1;36m60\u001b[0m\u001b[1;33m\u001b[0m\u001b[1;33m\u001b[0m\u001b[0m\n\u001b[0m\u001b[0;32m     24\u001b[0m \u001b[0mfull_center\u001b[0m \u001b[1;33m=\u001b[0m \u001b[0mmgy_per_hr\u001b[0m\u001b[1;33m[\u001b[0m\u001b[0mlen\u001b[0m\u001b[1;33m(\u001b[0m\u001b[0mmgy_per_hr\u001b[0m\u001b[1;33m)\u001b[0m\u001b[1;33m//\u001b[0m\u001b[1;36m2\u001b[0m\u001b[1;33m,\u001b[0m\u001b[1;33m:\u001b[0m\u001b[1;33m,\u001b[0m\u001b[1;33m:\u001b[0m\u001b[1;33m]\u001b[0m\u001b[1;33m\u001b[0m\u001b[1;33m\u001b[0m\u001b[0m\n\u001b[0;32m     25\u001b[0m \u001b[1;33m\u001b[0m\u001b[0m\n",
      "\u001b[1;31mNameError\u001b[0m: name 'events' is not defined"
     ]
    }
   ],
   "source": [
    "# correct for error introduced by alignment\n",
    "astack_mBq = io.imread(os.path.join(imdir, 'aligned', 'imstack.tif'))\n",
    "astack_corr = astack_mBq / (1+a_corr[study_idx])\n",
    "events = astack_corr * efficiency_factor * time_snapshot * 1e-3 # convert mBq > Bq\n",
    "\n",
    "# kernel padding and binning\n",
    "study_um_px = np.round(um_per_px[study_idx])\n",
    "study_slice_z = 12\n",
    "padded_kernel = dpk.pad_kernel_to_vsize(radial_kernel,\n",
    "                                            vox_xy=study_um_px,\n",
    "                                            slice_z=study_slice_z)\n",
    "vox_vol_m = (study_um_px * 1e-6)**2 * (study_slice_z * 1e-6)\n",
    "\n",
    "# Bin the kernel down to match the iQID image resolution.\n",
    "d, m, n = padded_kernel.shape\n",
    "binned_kernel = dpk.bin_ndarray(padded_kernel,\n",
    "                                    (int(d/study_slice_z),\n",
    "                                    int(m/study_um_px),\n",
    "                                    int(n/study_um_px)))\n",
    "mgy_kernel = dpk.mev_to_mgy(binned_kernel, vox_vol_m)\n",
    "\n",
    "print('    doing full convolution...')\n",
    "# Unit conversions and convolution.\n",
    "mgy_per_hr = convolve(events, mgy_kernel) * 60 * 60\n",
    "full_center = mgy_per_hr[len(mgy_per_hr)//2,:,:]\n",
    "\n",
    "print('    doing cloning convolution...')\n",
    "# Pad up and perform convolution\n",
    "events = astack_corr * efficiency_factor * time_snapshot * 1e-3 # convert mBq > Bq\n",
    "base_image = events[len(events)//2,:,:]\n",
    "w,h = np.shape(base_image)\n",
    "duped_stack = np.repeat(base_image[np.newaxis, :, :], num_slices, axis=0)\n",
    "mgy_per_hr = convolve(duped_stack, mgy_kernel) * 60 * 60\n",
    "central_slice = mgy_per_hr[len(mgy_per_hr)//2,:,:]\n",
    "\n",
    "# Visualization\n",
    "fig, ax = plt.subplots(1,2, figsize=(14,6))\n",
    "im = ax[1].imshow(full_center, cmap='inferno', vmin=np.min(full_center), vmax=np.max(full_center))\n",
    "ax[0].imshow(central_slice, cmap='inferno', vmin=np.min(full_center), vmax=np.max(full_center))\n",
    "ax[0].axis('off')\n",
    "ax[1].axis('off')\n",
    "ax[0].set_title('cloning method')\n",
    "ax[1].set_title('full-sequence method')\n",
    "\n",
    "cbar= fig.colorbar(im, ax=ax.ravel().tolist())\n",
    "cbar.set_label('Absorbed dose (mGy/h)')\n",
    "plt.show()"
   ]
  },
  {
   "cell_type": "markdown",
   "metadata": {},
   "source": [
    "To use multiple slices but still apply cloning (e.g., three measured slices), please combine the test module shown above with the framework here. We may update this tutorial in the future to show it explicitly."
   ]
  }
 ],
 "metadata": {
  "kernelspec": {
   "display_name": "Python 3",
   "language": "python",
   "name": "python3"
  },
  "language_info": {
   "codemirror_mode": {
    "name": "ipython",
    "version": 3
   },
   "file_extension": ".py",
   "mimetype": "text/x-python",
   "name": "python",
   "nbconvert_exporter": "python",
   "pygments_lexer": "ipython3",
   "version": "3.8.10"
  }
 },
 "nbformat": 4,
 "nbformat_minor": 4
}
