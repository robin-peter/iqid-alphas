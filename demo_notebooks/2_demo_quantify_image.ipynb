{
 "cells": [
  {
   "cell_type": "markdown",
   "id": "791076c7-b295-4d03-83d7-e2155c77a645",
   "metadata": {},
   "source": [
    "# Notebook 2: Quantifying an image from Listmode data.\n",
    "\n",
    "In this notebook we will use Python functions to:\n",
    "- Use the iQID histogram and offsets data to identify issues with acquisition.\n",
    "- Use the iQID histogram to quantify the activity in an image.\n",
    "- Apply a decay correction to the time of sample acquisition."
   ]
  },
  {
   "cell_type": "markdown",
   "id": "3f117ed0-6400-4090-bd81-32a8c1838c21",
   "metadata": {},
   "source": [
    "## Import packages"
   ]
  },
  {
   "cell_type": "markdown",
   "id": "93d52c67-03f3-41ac-b31e-67f18b0c1eef",
   "metadata": {},
   "source": [
    "First, move your working directory upwards one so you can access source code in iqid/. This step is necessary because I haven't set up iqid as an installable package (i.e. via pip or conda), reflecting the fact that it's pretty informal and (permanently) in development."
   ]
  },
  {
   "cell_type": "code",
   "execution_count": 1,
   "id": "a238b35a-a017-4578-981e-098381b539f9",
   "metadata": {},
   "outputs": [
    {
     "name": "stdout",
     "output_type": "stream",
     "text": [
      "C:\\Users\\Robin\\Documents\\Cal\\iQID\\git_branches\\iqid-alphas\n"
     ]
    }
   ],
   "source": [
    "cd .."
   ]
  },
  {
   "cell_type": "code",
   "execution_count": 2,
   "id": "59f3786b-fa92-4c0a-9353-f0709dffaff9",
   "metadata": {},
   "outputs": [
    {
     "name": "stderr",
     "output_type": "stream",
     "text": [
      "C:\\Users\\Robin\\anaconda3\\envs\\beq\\lib\\site-packages\\paramiko\\transport.py:219: CryptographyDeprecationWarning: Blowfish has been deprecated\n",
      "  \"class\": algorithms.Blowfish,\n"
     ]
    }
   ],
   "source": [
    "import os\n",
    "import glob\n",
    "import numpy as np\n",
    "import matplotlib.pyplot as plt\n",
    "from skimage import io\n",
    "\n",
    "%load_ext autoreload\n",
    "%autoreload 2\n",
    "from iqid import helper as iq # helper functions such as plotting parameters and other things\n",
    "from iqid import process_object as po # class to handle listmode data is contained here.\n",
    "\n",
    "pltmap = iq.set_plot_parms() # set default plot settings (feel free to change this)"
   ]
  },
  {
   "cell_type": "markdown",
   "id": "3897f07b-2f0c-4590-94f5-602c22f9ac91",
   "metadata": {},
   "source": [
    "# Load data\n",
    "- Follows the procedure outlined in Demo Notebook 1."
   ]
  },
  {
   "cell_type": "code",
   "execution_count": 3,
   "id": "723166fb-3397-42bf-9816-2f467659299a",
   "metadata": {},
   "outputs": [
    {
     "name": "stdout",
     "output_type": "stream",
     "text": [
      "CPU times: total: 2.58 s\n",
      "Wall time: 2.58 s\n"
     ]
    }
   ],
   "source": [
    "%%time\n",
    "\n",
    "# enter the path to your iQID data on your machine\n",
    "datdir = r\"C:\\Users\\Robin\\Documents\\Cal\\iQID\\git_branches\\iqid-alphas\\data_sample\\File_Structure_Sample\"\n",
    "fname = iq.natural_sort(glob.glob(os.path.join(datdir, \"Listmode\", \"*Compressed_Processed_Listmode.dat\")))[-1]\n",
    "cdat = po.ClusterData(fname, ftype=\"processed_lm\", c_area_thresh=1)\n",
    "cim = cdat.image_from_big_listmode(event_fx=1)"
   ]
  }
 ],
 "metadata": {
  "kernelspec": {
   "display_name": "Python 3 (ipykernel)",
   "language": "python",
   "name": "python3"
  },
  "language_info": {
   "codemirror_mode": {
    "name": "ipython",
    "version": 3
   },
   "file_extension": ".py",
   "mimetype": "text/x-python",
   "name": "python",
   "nbconvert_exporter": "python",
   "pygments_lexer": "ipython3",
   "version": "3.8.16"
  }
 },
 "nbformat": 4,
 "nbformat_minor": 5
}
